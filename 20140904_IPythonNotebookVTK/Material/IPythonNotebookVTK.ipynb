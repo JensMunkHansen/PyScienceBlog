{
 "metadata": {
  "name": "",
  "signature": "sha256:277e145289bc1cdcca4285b9daaec5c782ab2f22a562dccb09a93e2042ed85f5"
 },
 "nbformat": 3,
 "nbformat_minor": 0,
 "worksheets": [
  {
   "cells": [
    {
     "cell_type": "code",
     "collapsed": false,
     "input": [
      "import vtk\n",
      "from IPython.display import Image\n",
      "def vtk_show(renderer, width=400, height=300):\n",
      "    \"\"\"\n",
      "    Takes vtkRenderer instance and returns an IPython Image with the rendering.\n",
      "    \"\"\"\n",
      "    renderWindow = vtk.vtkRenderWindow()\n",
      "    renderWindow.SetOffScreenRendering(1)\n",
      "    renderWindow.AddRenderer(renderer)\n",
      "    renderWindow.SetSize(width, height)\n",
      "    renderWindow.Render()\n",
      "     \n",
      "    windowToImageFilter = vtk.vtkWindowToImageFilter()\n",
      "    windowToImageFilter.SetInput(renderWindow)\n",
      "    windowToImageFilter.Update()\n",
      "     \n",
      "    writer = vtk.vtkPNGWriter()\n",
      "    writer.SetWriteToMemory(1)\n",
      "    writer.SetInputConnection(windowToImageFilter.GetOutputPort())\n",
      "    writer.Write()\n",
      "    data = str(buffer(writer.GetResult()))\n",
      "    \n",
      "    return Image(data)"
     ],
     "language": "python",
     "metadata": {},
     "outputs": [],
     "prompt_number": 1
    },
    {
     "cell_type": "code",
     "collapsed": false,
     "input": [
      "VtkSourceSphere = vtk.vtkSphereSource()\n",
      "VtkSourceSphere.SetCenter(0.0, 0.0, 0.0)\n",
      "VtkSourceSphere.SetRadius(10.0)\n",
      "VtkSourceSphere.SetPhiResolution(360)\n",
      "VtkSourceSphere.SetThetaResolution(360)\n",
      "\n",
      "VtkMapperSphere = vtk.vtkPolyDataMapper()\n",
      "VtkMapperSphere.SetInputConnection(VtkSourceSphere.GetOutputPort())\n",
      "\n",
      "VtkActorSphere = vtk.vtkActor()\n",
      "VtkActorSphere.SetMapper(VtkMapperSphere)\n",
      "VtkActorSphere.GetProperty().SetColor(1.0, 0.0, 0.0)"
     ],
     "language": "python",
     "metadata": {},
     "outputs": [],
     "prompt_number": 2
    },
    {
     "cell_type": "code",
     "collapsed": false,
     "input": [
      "VtkRenderer = vtk.vtkRenderer()\n",
      "VtkRenderer.SetBackground(1.0, 1.0, 1.0)\n",
      "VtkRenderer.AddActor(VtkActorSphere)"
     ],
     "language": "python",
     "metadata": {},
     "outputs": [],
     "prompt_number": 3
    },
    {
     "cell_type": "code",
     "collapsed": false,
     "input": [
      "vtk_show(VtkRenderer)"
     ],
     "language": "python",
     "metadata": {},
     "outputs": [
      {
       "metadata": {},
       "output_type": "pyout",
       "png": "[encoded data removed]",
       "prompt_number": 4,
       "text": [
        "<IPython.core.display.Image at 0x10f575590>"
       ]
      }
     ],
     "prompt_number": 4
    },
    {
     "cell_type": "code",
     "collapsed": false,
     "input": [],
     "language": "python",
     "metadata": {},
     "outputs": []
    }
   ],
   "metadata": {}
  }
 ]
}
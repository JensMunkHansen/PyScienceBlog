{
 "cells": [
  {
   "cell_type": "markdown",
   "metadata": {},
   "source": [
    "## Imports"
   ]
  },
  {
   "cell_type": "code",
   "execution_count": null,
   "metadata": {},
   "outputs": [],
   "source": [
    "import os\n",
    "import numpy\n",
    "import SimpleITK\n",
    "import matplotlib.pyplot as plt\n",
    "%matplotlib inline"
   ]
  },
  {
   "cell_type": "markdown",
   "metadata": {},
   "source": [
    "---"
   ]
  },
  {
   "cell_type": "markdown",
   "metadata": {},
   "source": [
    "## Helper-functions"
   ]
  },
  {
   "cell_type": "markdown",
   "metadata": {},
   "source": [
    "We're gonna use this function to quickly plot a 2D SimpleITK image with a grayscale colormap and accompanying axes"
   ]
  },
  {
   "cell_type": "code",
   "execution_count": null,
   "metadata": {},
   "outputs": [],
   "source": [
    "def sitk_show(img, title=None, margin=0.0, dpi=40):\n",
    "    nda = SimpleITK.GetArrayFromImage(img)\n",
    "    #spacing = img.GetSpacing()\n",
    "    figsize = (1 + margin) * nda.shape[0] / dpi, (1 + margin) * nda.shape[1] / dpi\n",
    "    #extent = (0, nda.shape[1]*spacing[1], nda.shape[0]*spacing[0], 0)\n",
    "    extent = (0, nda.shape[1], nda.shape[0], 0)\n",
    "    fig = plt.figure(figsize=figsize, dpi=dpi)\n",
    "    ax = fig.add_axes([margin, margin, 1 - 2*margin, 1 - 2*margin])\n",
    "\n",
    "    plt.set_cmap(\"gray\")\n",
    "    ax.imshow(nda,extent=extent,interpolation=None)\n",
    "    \n",
    "    if title:\n",
    "        plt.title(title)\n",
    "    \n",
    "    plt.show()"
   ]
  },
  {
   "cell_type": "markdown",
   "metadata": {},
   "source": [
    "---"
   ]
  },
  {
   "cell_type": "markdown",
   "metadata": {},
   "source": [
    "## Options"
   ]
  },
  {
   "cell_type": "code",
   "execution_count": null,
   "metadata": {},
   "outputs": [],
   "source": [
    "# Paths to the .mhd files\n",
    "filenameT1 = \"./patient_109/mr_T1/patient_109_mr_T1.mhd\"\n",
    "filenameT2 = \"./patient_109/mr_T2/patient_109_mr_T2.mhd\"\n",
    "\n",
    "# Slice index to visualize with 'sitk_show'\n",
    "idxSlice = 26\n",
    "\n",
    "# int label to assign to the segmented gray matter\n",
    "labelGrayMatter = 1"
   ]
  },
  {
   "cell_type": "markdown",
   "metadata": {},
   "source": [
    "---"
   ]
  },
  {
   "cell_type": "markdown",
   "metadata": {},
   "source": [
    "## Image-Data Input"
   ]
  },
  {
   "cell_type": "code",
   "execution_count": null,
   "metadata": {},
   "outputs": [],
   "source": [
    "imgT1Original = SimpleITK.ReadImage(filenameT1)\n",
    "imgT2Original = SimpleITK.ReadImage(filenameT2)"
   ]
  },
  {
   "cell_type": "code",
   "execution_count": null,
   "metadata": {},
   "outputs": [],
   "source": [
    "sitk_show(SimpleITK.Tile(imgT1Original[:, :, idxSlice],\n",
    "                         imgT2Original[:, :, idxSlice],\n",
    "                         (2, 1, 0)))"
   ]
  },
  {
   "cell_type": "markdown",
   "metadata": {},
   "source": [
    "---"
   ]
  },
  {
   "cell_type": "markdown",
   "metadata": {},
   "source": [
    "## Image Smoothing/Denoising"
   ]
  },
  {
   "cell_type": "code",
   "execution_count": null,
   "metadata": {},
   "outputs": [],
   "source": [
    "imgT1Smooth = SimpleITK.CurvatureFlow(image1=imgT1Original,\n",
    "                                      timeStep=0.125,\n",
    "                                      numberOfIterations=5)\n",
    "\n",
    "imgT2Smooth = SimpleITK.CurvatureFlow(image1=imgT2Original,\n",
    "                                      timeStep=0.125,\n",
    "                                      numberOfIterations=5)\n",
    "\n",
    "sitk_show(SimpleITK.Tile(imgT1Smooth[:, :, idxSlice], \n",
    "                         imgT2Smooth[:, :, idxSlice], \n",
    "                         (2, 1, 0)))"
   ]
  },
  {
   "cell_type": "markdown",
   "metadata": {},
   "source": [
    "---"
   ]
  },
  {
   "cell_type": "markdown",
   "metadata": {},
   "source": [
    "## Seed Definition"
   ]
  },
  {
   "cell_type": "code",
   "execution_count": null,
   "metadata": {},
   "outputs": [],
   "source": [
    "lstSeeds = [(165, 178, idxSlice),\n",
    "            (98, 165, idxSlice),\n",
    "            (205, 125, idxSlice),\n",
    "            (173, 205, idxSlice)]\n",
    "\n",
    "imgSeeds = SimpleITK.Image(imgT2Smooth)\n",
    "\n",
    "for s in lstSeeds:\n",
    "    imgSeeds[s] = 10000\n",
    "\n",
    "sitk_show(imgSeeds[:, :, idxSlice])"
   ]
  },
  {
   "cell_type": "markdown",
   "metadata": {},
   "source": [
    "---"
   ]
  },
  {
   "cell_type": "markdown",
   "metadata": {},
   "source": [
    "## Auxiliary Function: Vector-Image Tiling"
   ]
  },
  {
   "cell_type": "markdown",
   "metadata": {},
   "source": [
    "We'll use this function to `Tile` multiple multi-component (vectorial) images"
   ]
  },
  {
   "cell_type": "code",
   "execution_count": null,
   "metadata": {},
   "outputs": [],
   "source": [
    "def sitk_tile_vec(lstImgs):\n",
    "    lstImgToCompose = []\n",
    "    for idxComp in range(lstImgs[0].GetNumberOfComponentsPerPixel()):\n",
    "        lstImgToTile = []\n",
    "        for img in lstImgs:\n",
    "            lstImgToTile.append(SimpleITK.VectorIndexSelectionCast(img, idxComp))\n",
    "        lstImgToCompose.append(SimpleITK.Tile(lstImgToTile, (len(lstImgs), 1, 0)))\n",
    "    sitk_show(SimpleITK.Compose(lstImgToCompose))"
   ]
  },
  {
   "cell_type": "markdown",
   "metadata": {},
   "source": [
    "---"
   ]
  },
  {
   "cell_type": "markdown",
   "metadata": {},
   "source": [
    "## Uni-Modal Segmentation"
   ]
  },
  {
   "cell_type": "markdown",
   "metadata": {},
   "source": [
    "Region-growing segmentation on each of the two images based on the predefined seeds"
   ]
  },
  {
   "cell_type": "code",
   "execution_count": null,
   "metadata": {},
   "outputs": [],
   "source": [
    "imgGrayMatterT1 = SimpleITK.ConfidenceConnected(image1=imgT1Smooth, \n",
    "                                                seedList=lstSeeds,\n",
    "                                                numberOfIterations=7,\n",
    "                                                multiplier=1.0,\n",
    "                                                replaceValue=labelGrayMatter)\n",
    "\n",
    "imgGrayMatterT2 = SimpleITK.ConfidenceConnected(image1=imgT2Smooth, \n",
    "                                                seedList=lstSeeds,\n",
    "                                                numberOfIterations=7,\n",
    "                                                multiplier=1.5,\n",
    "                                                replaceValue=labelGrayMatter)\n",
    "\n",
    "imgT1SmoothInt = SimpleITK.Cast(SimpleITK.RescaleIntensity(imgT1Smooth), \n",
    "                                imgGrayMatterT1.GetPixelID())\n",
    "imgT2SmoothInt = SimpleITK.Cast(SimpleITK.RescaleIntensity(imgT2Smooth), \n",
    "                                imgGrayMatterT2.GetPixelID())\n",
    "\n",
    "sitk_tile_vec([SimpleITK.LabelOverlay(imgT1SmoothInt[:,:,idxSlice], \n",
    "                                      imgGrayMatterT1[:,:,idxSlice]),\n",
    "               SimpleITK.LabelOverlay(imgT2SmoothInt[:,:,idxSlice], \n",
    "                                     imgGrayMatterT2[:,:,idxSlice])])"
   ]
  },
  {
   "cell_type": "markdown",
   "metadata": {},
   "source": [
    "---"
   ]
  },
  {
   "cell_type": "markdown",
   "metadata": {},
   "source": [
    "## Multi-Modal Segmentation"
   ]
  },
  {
   "cell_type": "code",
   "execution_count": null,
   "metadata": {},
   "outputs": [],
   "source": [
    "imgComp = SimpleITK.Compose(imgT1Smooth, imgT2Smooth)\n",
    "\n",
    "imgGrayMatterComp = SimpleITK.VectorConfidenceConnected(image1=imgComp, \n",
    "                                               seedList=lstSeeds,\n",
    "                                               numberOfIterations=1,\n",
    "                                               multiplier=0.1,\n",
    "                                               replaceValue=labelGrayMatter)\n",
    "\n",
    "sitk_show(SimpleITK.LabelOverlay(imgT2SmoothInt[:,:,idxSlice], \n",
    "                                 imgGrayMatterComp[:,:,idxSlice]))"
   ]
  },
  {
   "cell_type": "markdown",
   "metadata": {},
   "source": [
    "## MHD Output"
   ]
  },
  {
   "cell_type": "code",
   "execution_count": null,
   "metadata": {},
   "outputs": [],
   "source": [
    "SimpleITK.WriteImage(imgGrayMatterComp, \"GrayMatter.mhd\")"
   ]
  }
 ],
 "metadata": {
  "kernelspec": {
   "display_name": "Python 3 (ipykernel)",
   "language": "python",
   "name": "python3"
  },
  "language_info": {
   "codemirror_mode": {
    "name": "ipython",
    "version": 3
   },
   "file_extension": ".py",
   "mimetype": "text/x-python",
   "name": "python",
   "nbconvert_exporter": "python",
   "pygments_lexer": "ipython3",
   "version": "3.10.5"
  }
 },
 "nbformat": 4,
 "nbformat_minor": 1
}

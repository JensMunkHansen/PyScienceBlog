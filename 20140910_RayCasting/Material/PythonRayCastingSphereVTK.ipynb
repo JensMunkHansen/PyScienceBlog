{
 "cells": [
  {
   "cell_type": "code",
   "execution_count": 8,
   "metadata": {},
   "outputs": [],
   "source": [
    "import os\n",
    "import vtk"
   ]
  },
  {
   "cell_type": "markdown",
   "metadata": {},
   "source": [
    "---"
   ]
  },
  {
   "cell_type": "markdown",
   "metadata": {},
   "source": [
    "We're going to use this function to use an STL file and return the mesh"
   ]
  },
  {
   "cell_type": "code",
   "execution_count": 9,
   "metadata": {},
   "outputs": [],
   "source": [
    "def loadSTL(filenameSTL):\n",
    "    readerSTL = vtk.vtkSTLReader()\n",
    "    readerSTL.SetFileName(filenameSTL)\n",
    "    # 'update' the reader i.e. read the .stl file\n",
    "    readerSTL.Update()\n",
    "\n",
    "    polydata = readerSTL.GetOutput()\n",
    "\n",
    "    # If there are no points in 'vtkPolyData' something went wrong\n",
    "    if polydata.GetNumberOfPoints() == 0:\n",
    "        raise ValueError(\n",
    "            \"No point data could be loaded from '\" + filenameSTL)\n",
    "        return None\n",
    "    \n",
    "    return polydata"
   ]
  },
  {
   "cell_type": "markdown",
   "metadata": {},
   "source": [
    "We're gonna use this function to embed a still image of a VTK render"
   ]
  },
  {
   "cell_type": "code",
   "execution_count": 10,
   "metadata": {},
   "outputs": [],
   "source": [
    "import vtk\n",
    "from IPython.display import Image\n",
    "def vtk_show(renderer, width=400, height=300):\n",
    "    \"\"\"\n",
    "    Takes vtkRenderer instance and returns an IPython Image with the rendering.\n",
    "    \"\"\"\n",
    "    renderWindow = vtk.vtkRenderWindow()\n",
    "    renderWindow.SetOffScreenRendering(1)\n",
    "    renderWindow.AddRenderer(renderer)\n",
    "    renderWindow.SetSize(width, height)\n",
    "    renderWindow.Render()\n",
    "     \n",
    "    windowToImageFilter = vtk.vtkWindowToImageFilter()\n",
    "    windowToImageFilter.SetInput(renderWindow)\n",
    "    windowToImageFilter.Update()\n",
    "     \n",
    "    writer = vtk.vtkPNGWriter()\n",
    "    writer.SetWriteToMemory(1)\n",
    "    writer.SetInputConnection(windowToImageFilter.GetOutputPort())\n",
    "    writer.Write()\n",
    "    data = writer.GetResult()\n",
    "    \n",
    "    return Image(data)"
   ]
  },
  {
   "cell_type": "markdown",
   "metadata": {},
   "source": [
    "This function adds a line to a `vtkRenderer`"
   ]
  },
  {
   "cell_type": "code",
   "execution_count": 11,
   "metadata": {},
   "outputs": [],
   "source": [
    "def addLine(renderer, p1, p2, color=[0.0, 0.0, 1.0]):\n",
    "    line = vtk.vtkLineSource()\n",
    "    line.SetPoint1(p1)\n",
    "    line.SetPoint2(p2)\n",
    "\n",
    "    mapper = vtk.vtkPolyDataMapper()\n",
    "    mapper.SetInputConnection(line.GetOutputPort())\n",
    "\n",
    "    actor = vtk.vtkActor()\n",
    "    actor.SetMapper(mapper)\n",
    "    actor.GetProperty().SetColor(color)\n",
    "\n",
    "    renderer.AddActor(actor)"
   ]
  },
  {
   "cell_type": "markdown",
   "metadata": {},
   "source": [
    "This function adds a point (a sphere really) to a `vtkRenderer`"
   ]
  },
  {
   "cell_type": "code",
   "execution_count": 12,
   "metadata": {},
   "outputs": [],
   "source": [
    "def addPoint(renderer, p, radius=1.0, color=[0.0, 0.0, 0.0]):\n",
    "    point = vtk.vtkSphereSource()\n",
    "    point.SetCenter(p)\n",
    "    point.SetRadius(radius)\n",
    "    point.SetPhiResolution(100)\n",
    "    point.SetThetaResolution(100)\n",
    "\n",
    "    mapper = vtk.vtkPolyDataMapper()\n",
    "    mapper.SetInputConnection(point.GetOutputPort())\n",
    "\n",
    "    actor = vtk.vtkActor()\n",
    "    actor.SetMapper(mapper)\n",
    "    actor.GetProperty().SetColor(color)\n",
    "\n",
    "    renderer.AddActor(actor)"
   ]
  },
  {
   "cell_type": "markdown",
   "metadata": {},
   "source": [
    "---"
   ]
  },
  {
   "cell_type": "markdown",
   "metadata": {},
   "source": [
    "Load the STL model of the hollow sphere onto `mesh`"
   ]
  },
  {
   "cell_type": "code",
   "execution_count": 13,
   "metadata": {},
   "outputs": [],
   "source": [
    "mesh = loadSTL(\"sphereHollow.stl\")"
   ]
  },
  {
   "cell_type": "markdown",
   "metadata": {},
   "source": [
    "Create a new `vtkRenderer` and visualize the `mesh` using `vtk_show`"
   ]
  },
  {
   "cell_type": "code",
   "execution_count": 14,
   "metadata": {},
   "outputs": [
    {
     "data": {
      "image/png": "[encoded data removed]",
      "text/plain": [
       "<IPython.core.display.Image object>"
      ]
     },
     "execution_count": 14,
     "metadata": {},
     "output_type": "execute_result"
    }
   ],
   "source": [
    "mapper = vtk.vtkPolyDataMapper()\n",
    "mapper.SetInputData(mesh)\n",
    "\n",
    "actor = vtk.vtkActor()\n",
    "actor.SetMapper(mapper)\n",
    "actor.GetProperty().SetOpacity(0.25)\n",
    "\n",
    "renderer = vtk.vtkRenderer()\n",
    "renderer.AddActor(actor)\n",
    "renderer.SetBackground(1.0, 1.0, 1.0)\n",
    "vtk_show(renderer)"
   ]
  },
  {
   "cell_type": "markdown",
   "metadata": {},
   "source": [
    "Set the source and target coordinate of the ray"
   ]
  },
  {
   "cell_type": "code",
   "execution_count": 15,
   "metadata": {},
   "outputs": [],
   "source": [
    "pSource = [-50.0, 0.0, 0.0]\n",
    "pTarget = [50.0, 0.0, 0.0]"
   ]
  },
  {
   "cell_type": "markdown",
   "metadata": {},
   "source": [
    "Use the `addPoint` and `addLine` helper-functions to render the ray as well as the source (red) and target (green) points"
   ]
  },
  {
   "cell_type": "code",
   "execution_count": 16,
   "metadata": {},
   "outputs": [
    {
     "data": {
      "image/png": "[encoded data removed]",
      "text/plain": [
       "<IPython.core.display.Image object>"
      ]
     },
     "execution_count": 16,
     "metadata": {},
     "output_type": "execute_result"
    }
   ],
   "source": [
    "addPoint(renderer, pSource, color=[1.0, 0.0, 0.0])\n",
    "addPoint(renderer, pTarget, color=[0.0, 1.0, 0.0])\n",
    "addLine(renderer, pSource, pTarget)\n",
    "vtk_show(renderer)"
   ]
  },
  {
   "cell_type": "markdown",
   "metadata": {},
   "source": [
    "Create a `vtkOBBTree` which will allow us to perform ray-casting and get the intersection points between a ray and the `mesh`"
   ]
  },
  {
   "cell_type": "code",
   "execution_count": 17,
   "metadata": {},
   "outputs": [],
   "source": [
    "obbTree = vtk.vtkOBBTree()\n",
    "obbTree.SetDataSet(mesh)\n",
    "obbTree.BuildLocator()"
   ]
  },
  {
   "cell_type": "markdown",
   "metadata": {},
   "source": [
    "Create a new `vtkPoints` object to store the intersection points found via the ray-casting"
   ]
  },
  {
   "cell_type": "code",
   "execution_count": 18,
   "metadata": {},
   "outputs": [],
   "source": [
    "pointsVTKintersection = vtk.vtkPoints()"
   ]
  },
  {
   "cell_type": "markdown",
   "metadata": {},
   "source": [
    "Perform the ray-casting. The `IntersectWithLine` method returns an `int` code which if `0` means that no intersection points were found. If equal to `1` then some points were found. If equal to `-1` then the ray source lies within the surface"
   ]
  },
  {
   "cell_type": "code",
   "execution_count": 19,
   "metadata": {},
   "outputs": [
    {
     "data": {
      "text/plain": [
       "1"
      ]
     },
     "execution_count": 19,
     "metadata": {},
     "output_type": "execute_result"
    }
   ],
   "source": [
    "obbTree.IntersectWithLine(pSource, pTarget, pointsVTKintersection, None)"
   ]
  },
  {
   "cell_type": "markdown",
   "metadata": {},
   "source": [
    "'Convert' the intersection points into coordinate tuples and store them under the `list` named `pointsIntersection`"
   ]
  },
  {
   "cell_type": "code",
   "execution_count": 20,
   "metadata": {},
   "outputs": [],
   "source": [
    "pointsVTKIntersectionData = pointsVTKintersection.GetData()\n",
    "noPointsVTKIntersection = pointsVTKIntersectionData.GetNumberOfTuples()\n",
    "pointsIntersection = []\n",
    "for idx in range(noPointsVTKIntersection):\n",
    "    _tup = pointsVTKIntersectionData.GetTuple3(idx)\n",
    "    pointsIntersection.append(_tup)"
   ]
  },
  {
   "cell_type": "markdown",
   "metadata": {},
   "source": [
    "Loop through `pointsIntersection` list and use the `addPoint` helper-function to render the intersection points (blue)"
   ]
  },
  {
   "cell_type": "code",
   "execution_count": 21,
   "metadata": {},
   "outputs": [
    {
     "data": {
      "image/png": "[encoded data removed]",
      "text/plain": [
       "<IPython.core.display.Image object>"
      ]
     },
     "execution_count": 21,
     "metadata": {},
     "output_type": "execute_result"
    }
   ],
   "source": [
    "for p in pointsIntersection:\n",
    "    addPoint(renderer, p, color=[0.0, 0.0, 1.0])\n",
    "vtk_show(renderer)"
   ]
  }
 ],
 "metadata": {
  "kernelspec": {
   "display_name": "Python 3 (ipykernel)",
   "language": "python",
   "name": "python3"
  },
  "language_info": {
   "codemirror_mode": {
    "name": "ipython",
    "version": 3
   },
   "file_extension": ".py",
   "mimetype": "text/x-python",
   "name": "python",
   "nbconvert_exporter": "python",
   "pygments_lexer": "ipython3",
   "version": "3.11.2"
  }
 },
 "nbformat": 4,
 "nbformat_minor": 1
}

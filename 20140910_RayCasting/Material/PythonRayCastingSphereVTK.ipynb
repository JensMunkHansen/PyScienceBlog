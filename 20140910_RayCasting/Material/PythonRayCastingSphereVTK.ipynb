{
 "metadata": {
  "name": "",
  "signature": "sha256:5b808848f030f06be76dd69552a3dbea483c861424df45c6ca3444ff58976190"
 },
 "nbformat": 3,
 "nbformat_minor": 0,
 "worksheets": [
  {
   "cells": [
    {
     "cell_type": "code",
     "collapsed": false,
     "input": [
      "import os\n",
      "import vtk"
     ],
     "language": "python",
     "metadata": {},
     "outputs": [],
     "prompt_number": 1
    },
    {
     "cell_type": "markdown",
     "metadata": {},
     "source": [
      "---"
     ]
    },
    {
     "cell_type": "markdown",
     "metadata": {},
     "source": [
      "We're going to use this function to use an STL file and return the mesh"
     ]
    },
    {
     "cell_type": "code",
     "collapsed": false,
     "input": [
      "def loadSTL(filenameSTL):\n",
      "    readerSTL = vtk.vtkSTLReader()\n",
      "    readerSTL.SetFileName(filenameSTL)\n",
      "    # 'update' the reader i.e. read the .stl file\n",
      "    readerSTL.Update()\n",
      "\n",
      "    polydata = readerSTL.GetOutput()\n",
      "\n",
      "    # If there are no points in 'vtkPolyData' something went wrong\n",
      "    if polydata.GetNumberOfPoints() == 0:\n",
      "        raise ValueError(\n",
      "            \"No point data could be loaded from '\" + filenameSTL)\n",
      "        return None\n",
      "    \n",
      "    return polydata"
     ],
     "language": "python",
     "metadata": {},
     "outputs": [],
     "prompt_number": 2
    },
    {
     "cell_type": "markdown",
     "metadata": {},
     "source": [
      "We're gonna use this function to embed a still image of a VTK render"
     ]
    },
    {
     "cell_type": "code",
     "collapsed": false,
     "input": [
      "import vtk\n",
      "from IPython.display import Image\n",
      "def vtk_show(renderer, width=400, height=300):\n",
      "    \"\"\"\n",
      "    Takes vtkRenderer instance and returns an IPython Image with the rendering.\n",
      "    \"\"\"\n",
      "    renderWindow = vtk.vtkRenderWindow()\n",
      "    renderWindow.SetOffScreenRendering(1)\n",
      "    renderWindow.AddRenderer(renderer)\n",
      "    renderWindow.SetSize(width, height)\n",
      "    renderWindow.Render()\n",
      "     \n",
      "    windowToImageFilter = vtk.vtkWindowToImageFilter()\n",
      "    windowToImageFilter.SetInput(renderWindow)\n",
      "    windowToImageFilter.Update()\n",
      "     \n",
      "    writer = vtk.vtkPNGWriter()\n",
      "    writer.SetWriteToMemory(1)\n",
      "    writer.SetInputConnection(windowToImageFilter.GetOutputPort())\n",
      "    writer.Write()\n",
      "    data = str(buffer(writer.GetResult()))\n",
      "    \n",
      "    return Image(data)"
     ],
     "language": "python",
     "metadata": {},
     "outputs": [],
     "prompt_number": 3
    },
    {
     "cell_type": "markdown",
     "metadata": {},
     "source": [
      "This function adds a line to a `vtkRenderer`"
     ]
    },
    {
     "cell_type": "code",
     "collapsed": false,
     "input": [
      "def addLine(renderer, p1, p2, color=[0.0, 0.0, 1.0]):\n",
      "    line = vtk.vtkLineSource()\n",
      "    line.SetPoint1(p1)\n",
      "    line.SetPoint2(p2)\n",
      "\n",
      "    mapper = vtk.vtkPolyDataMapper()\n",
      "    mapper.SetInputConnection(line.GetOutputPort())\n",
      "\n",
      "    actor = vtk.vtkActor()\n",
      "    actor.SetMapper(mapper)\n",
      "    actor.GetProperty().SetColor(color)\n",
      "\n",
      "    renderer.AddActor(actor)"
     ],
     "language": "python",
     "metadata": {},
     "outputs": [],
     "prompt_number": 4
    },
    {
     "cell_type": "markdown",
     "metadata": {},
     "source": [
      "This function adds a point (a sphere really) to a `vtkRenderer`"
     ]
    },
    {
     "cell_type": "code",
     "collapsed": false,
     "input": [
      "def addPoint(renderer, p, radius=1.0, color=[0.0, 0.0, 0.0]):\n",
      "    point = vtk.vtkSphereSource()\n",
      "    point.SetCenter(p)\n",
      "    point.SetRadius(radius)\n",
      "    point.SetPhiResolution(100)\n",
      "    point.SetThetaResolution(100)\n",
      "\n",
      "    mapper = vtk.vtkPolyDataMapper()\n",
      "    mapper.SetInputConnection(point.GetOutputPort())\n",
      "\n",
      "    actor = vtk.vtkActor()\n",
      "    actor.SetMapper(mapper)\n",
      "    actor.GetProperty().SetColor(color)\n",
      "\n",
      "    renderer.AddActor(actor)"
     ],
     "language": "python",
     "metadata": {},
     "outputs": [],
     "prompt_number": 5
    },
    {
     "cell_type": "markdown",
     "metadata": {},
     "source": [
      "---"
     ]
    },
    {
     "cell_type": "markdown",
     "metadata": {},
     "source": [
      "Load the STL model of the hollow sphere onto `mesh`"
     ]
    },
    {
     "cell_type": "code",
     "collapsed": false,
     "input": [
      "mesh = loadSTL(\"sphereHollow.stl\")"
     ],
     "language": "python",
     "metadata": {},
     "outputs": [],
     "prompt_number": 6
    },
    {
     "cell_type": "markdown",
     "metadata": {},
     "source": [
      "Create a new `vtkRenderer` and visualize the `mesh` using `vtk_show`"
     ]
    },
    {
     "cell_type": "code",
     "collapsed": false,
     "input": [
      "mapper = vtk.vtkPolyDataMapper()\n",
      "mapper.SetInput(mesh)\n",
      "\n",
      "actor = vtk.vtkActor()\n",
      "actor.SetMapper(mapper)\n",
      "actor.GetProperty().SetOpacity(0.25)\n",
      "\n",
      "renderer = vtk.vtkRenderer()\n",
      "renderer.AddActor(actor)\n",
      "renderer.SetBackground(1.0, 1.0, 1.0)\n",
      "vtk_show(renderer)"
     ],
     "language": "python",
     "metadata": {},
     "outputs": [
      {
       "metadata": {},
       "output_type": "pyout",
       "png": "[encoded data removed]",
       "prompt_number": 7,
       "text": [
        "<IPython.core.display.Image at 0x10fe66c50>"
       ]
      }
     ],
     "prompt_number": 7
    },
    {
     "cell_type": "markdown",
     "metadata": {},
     "source": [
      "Set the source and target coordinate of the ray"
     ]
    },
    {
     "cell_type": "code",
     "collapsed": false,
     "input": [
      "pSource = [-50.0, 0.0, 0.0]\n",
      "pTarget = [50.0, 0.0, 0.0]"
     ],
     "language": "python",
     "metadata": {},
     "outputs": [],
     "prompt_number": 8
    },
    {
     "cell_type": "markdown",
     "metadata": {},
     "source": [
      "Use the `addPoint` and `addLine` helper-functions to render the ray as well as the source (red) and target (green) points"
     ]
    },
    {
     "cell_type": "code",
     "collapsed": false,
     "input": [
      "addPoint(renderer, pSource, color=[1.0, 0.0, 0.0])\n",
      "addPoint(renderer, pTarget, color=[0.0, 1.0, 0.0])\n",
      "addLine(renderer, pSource, pTarget)\n",
      "vtk_show(renderer)"
     ],
     "language": "python",
     "metadata": {},
     "outputs": [
      {
       "metadata": {},
       "output_type": "pyout",
       "png": "[encoded data removed]",
       "prompt_number": 9,
       "text": [
        "<IPython.core.display.Image at 0x10fe60450>"
       ]
      }
     ],
     "prompt_number": 9
    },
    {
     "cell_type": "markdown",
     "metadata": {},
     "source": [
      "Create a `vtkOBBTree` which will allow us to perform ray-casting and get the intersection points between a ray and the `mesh`"
     ]
    },
    {
     "cell_type": "code",
     "collapsed": false,
     "input": [
      "obbTree = vtk.vtkOBBTree()\n",
      "obbTree.SetDataSet(mesh)\n",
      "obbTree.BuildLocator()"
     ],
     "language": "python",
     "metadata": {},
     "outputs": [],
     "prompt_number": 10
    },
    {
     "cell_type": "markdown",
     "metadata": {},
     "source": [
      "Create a new `vtkPoints` object to store the intersection points found via the ray-casting"
     ]
    },
    {
     "cell_type": "code",
     "collapsed": false,
     "input": [
      "pointsVTKintersection = vtk.vtkPoints()"
     ],
     "language": "python",
     "metadata": {},
     "outputs": [],
     "prompt_number": 11
    },
    {
     "cell_type": "markdown",
     "metadata": {},
     "source": [
      "Perform the ray-casting. The `IntersectWithLine` method returns an `int` code which if `0` means that no intersection points were found. If equal to `1` then some points were found. If equal to `-1` then the ray source lies within the surface"
     ]
    },
    {
     "cell_type": "code",
     "collapsed": false,
     "input": [
      "obbTree.IntersectWithLine(pSource, pTarget, pointsVTKintersection, None)"
     ],
     "language": "python",
     "metadata": {},
     "outputs": [
      {
       "metadata": {},
       "output_type": "pyout",
       "prompt_number": 12,
       "text": [
        "1"
       ]
      }
     ],
     "prompt_number": 12
    },
    {
     "cell_type": "markdown",
     "metadata": {},
     "source": [
      "'Convert' the intersection points into coordinate tuples and store them under the `list` named `pointsIntersection`"
     ]
    },
    {
     "cell_type": "code",
     "collapsed": false,
     "input": [
      "pointsVTKIntersectionData = pointsVTKintersection.GetData()\n",
      "noPointsVTKIntersection = pointsVTKIntersectionData.GetNumberOfTuples()\n",
      "pointsIntersection = []\n",
      "for idx in range(noPointsVTKIntersection):\n",
      "    _tup = pointsVTKIntersectionData.GetTuple3(idx)\n",
      "    pointsIntersection.append(_tup)"
     ],
     "language": "python",
     "metadata": {},
     "outputs": [],
     "prompt_number": 13
    },
    {
     "cell_type": "markdown",
     "metadata": {},
     "source": [
      "Loop through `pointsIntersection` list and use the `addPoint` helper-function to render the intersection points (blue)"
     ]
    },
    {
     "cell_type": "code",
     "collapsed": false,
     "input": [
      "for p in pointsIntersection:\n",
      "    addPoint(renderer, p, color=[0.0, 0.0, 1.0])\n",
      "vtk_show(renderer)"
     ],
     "language": "python",
     "metadata": {},
     "outputs": [
      {
       "metadata": {},
       "output_type": "pyout",
       "png": "[encoded data removed]",
       "prompt_number": 14,
       "text": [
        "<IPython.core.display.Image at 0x10fe60310>"
       ]
      }
     ],
     "prompt_number": 14
    }
   ],
   "metadata": {}
  }
 ]
}
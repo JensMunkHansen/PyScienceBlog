{
 "cells": [
  {
   "cell_type": "markdown",
   "metadata": {},
   "source": [
    "This notebook shows how to load a labelfield in a `.mha` file and relabel it to have consecutive label indices"
   ]
  },
  {
   "cell_type": "code",
   "execution_count": null,
   "metadata": {},
   "outputs": [],
   "source": [
    "import SimpleITK\n",
    "import numpy\n",
    "import os\n",
    "import csv"
   ]
  },
  {
   "cell_type": "markdown",
   "metadata": {},
   "source": [
    "## Relabeling"
   ]
  },
  {
   "cell_type": "markdown",
   "metadata": {},
   "source": [
    "Load image"
   ]
  },
  {
   "cell_type": "code",
   "execution_count": null,
   "metadata": {},
   "outputs": [],
   "source": [
    "imgOld = SimpleITK.ReadImage(\"brain_segmentation_old.mha\")"
   ]
  },
  {
   "cell_type": "markdown",
   "metadata": {},
   "source": [
    "Convert image to numpy"
   ]
  },
  {
   "cell_type": "code",
   "execution_count": null,
   "metadata": {},
   "outputs": [],
   "source": [
    "ndaOld = SimpleITK.GetArrayFromImage(imgOld)"
   ]
  },
  {
   "cell_type": "markdown",
   "metadata": {},
   "source": [
    "Find unique values, i.e., label indices"
   ]
  },
  {
   "cell_type": "code",
   "execution_count": null,
   "metadata": {},
   "outputs": [],
   "source": [
    "_indices = numpy.unique(ndaOld)\n",
    "_indices"
   ]
  },
  {
   "cell_type": "markdown",
   "metadata": {},
   "source": [
    "Load colorfile into dictionary"
   ]
  },
  {
   "cell_type": "code",
   "execution_count": null,
   "metadata": {},
   "outputs": [],
   "source": [
    "fid = open(\"colorfile_old.txt\", \"r\")\n",
    "reader = csv.reader(fid)\n",
    "\n",
    "dictRgbOld = {}\n",
    "for line in reader:\n",
    "    dictRgbOld[int(line[0])] = [line[1], line[2], line[3], line[4]]\n",
    "fid.close()"
   ]
  },
  {
   "cell_type": "markdown",
   "metadata": {},
   "source": [
    "Clean colorfile dictionary (in case there are pixels with labels that don't apply)"
   ]
  },
  {
   "cell_type": "code",
   "execution_count": null,
   "metadata": {},
   "outputs": [],
   "source": [
    "for idx in _indices:\n",
    "    if idx not in dictRgbOld.keys():\n",
    "        ndaOld[ndaOld==idx] = 0\n",
    "        \n",
    "_indices = numpy.unique(ndaOld)\n",
    "_indices"
   ]
  },
  {
   "cell_type": "markdown",
   "metadata": {},
   "source": [
    "Relabel"
   ]
  },
  {
   "cell_type": "code",
   "execution_count": null,
   "metadata": {},
   "outputs": [],
   "source": [
    "counterIdxNew = 0\n",
    "dictRgbNew = {}\n",
    "\n",
    "for idx in _indices:\n",
    "    ndaOld[ndaOld==idx] = counterIdxNew\n",
    "    dictRgbNew[counterIdxNew] = dictRgbOld[idx]\n",
    "    counterIdxNew += 1"
   ]
  },
  {
   "cell_type": "markdown",
   "metadata": {},
   "source": [
    "Create new `SimpleITK.Image` out of cleaned numpy array"
   ]
  },
  {
   "cell_type": "code",
   "execution_count": null,
   "metadata": {},
   "outputs": [],
   "source": [
    "imgNew = SimpleITK.GetImageFromArray(ndaOld)\n",
    "imgNew.SetSpacing(imgOld.GetSpacing())\n",
    "imgNew.SetOrigin(imgOld.GetOrigin())"
   ]
  },
  {
   "cell_type": "markdown",
   "metadata": {},
   "source": [
    "Save new colorfile"
   ]
  },
  {
   "cell_type": "code",
   "execution_count": null,
   "metadata": {},
   "outputs": [],
   "source": [
    "fid = open(\"colorfile_new.txt\", \"wb\")\n",
    "writer = csv.writer(fid)\n",
    "\n",
    "for idx in dictRgbNew.keys():\n",
    "    l = list(dictRgbNew[idx])\n",
    "    l.insert(0, idx)\n",
    "    writer.writerow(str.encode(l))\n",
    "fid.close()"
   ]
  },
  {
   "cell_type": "code",
   "execution_count": null,
   "metadata": {},
   "outputs": [],
   "source": []
  },
  {
   "cell_type": "markdown",
   "metadata": {},
   "source": [
    "Save new `.mha` file"
   ]
  },
  {
   "cell_type": "code",
   "execution_count": null,
   "metadata": {},
   "outputs": [],
   "source": [
    "SimpleITK.WriteImage(imgNew, \"brain_segmentation_new.mha\", useCompression=True)"
   ]
  }
 ],
 "metadata": {
  "kernelspec": {
   "display_name": "Python 3 (ipykernel)",
   "language": "python",
   "name": "python3"
  },
  "language_info": {
   "codemirror_mode": {
    "name": "ipython",
    "version": 3
   },
   "file_extension": ".py",
   "mimetype": "text/x-python",
   "name": "python",
   "nbconvert_exporter": "python",
   "pygments_lexer": "ipython3",
   "version": "3.10.5"
  }
 },
 "nbformat": 4,
 "nbformat_minor": 1
}

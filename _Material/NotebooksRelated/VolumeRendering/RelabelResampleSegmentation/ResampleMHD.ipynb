{
 "metadata": {
  "name": "",
  "signature": "sha256:c2ee65b336e7f632a4dee7bd564be97f85aa6e5132460a7ad385ede2c7dc603b"
 },
 "nbformat": 3,
 "nbformat_minor": 0,
 "worksheets": [
  {
   "cells": [
    {
     "cell_type": "code",
     "collapsed": false,
     "input": [
      "import vtk"
     ],
     "language": "python",
     "metadata": {},
     "outputs": [],
     "prompt_number": 1
    },
    {
     "cell_type": "code",
     "collapsed": false,
     "input": [
      "reader = vtk.vtkMetaImageReader()\n",
      "reader.SetFileName(\"brain_segmentation_new.mha\")\n",
      "reader.Update()\n",
      "\n",
      "imgOriginal = reader.GetOutput()"
     ],
     "language": "python",
     "metadata": {},
     "outputs": [],
     "prompt_number": 2
    },
    {
     "cell_type": "code",
     "collapsed": false,
     "input": [
      "resampler = vtk.vtkImageReslice()\n",
      "resampler.SetInput(imgOriginal)\n",
      "resampler.SetOutputSpacing(0.5, 0.5, 0.5)\n",
      "resampler.SetInterpolationModeToNearestNeighbor()\n",
      "resampler.Update()"
     ],
     "language": "python",
     "metadata": {},
     "outputs": [],
     "prompt_number": 5
    },
    {
     "cell_type": "code",
     "collapsed": false,
     "input": [
      "writer = vtk.vtkMetaImageWriter()\n",
      "writer.SetFileName(\"brain_segmentation_new_HR.mha\")\n",
      "writer.SetInput(resampler.GetOutput())\n",
      "writer.SetCompression(1)\n",
      "writer.Write()"
     ],
     "language": "python",
     "metadata": {},
     "outputs": [],
     "prompt_number": 6
    },
    {
     "cell_type": "code",
     "collapsed": false,
     "input": [],
     "language": "python",
     "metadata": {},
     "outputs": []
    }
   ],
   "metadata": {}
  }
 ]
}
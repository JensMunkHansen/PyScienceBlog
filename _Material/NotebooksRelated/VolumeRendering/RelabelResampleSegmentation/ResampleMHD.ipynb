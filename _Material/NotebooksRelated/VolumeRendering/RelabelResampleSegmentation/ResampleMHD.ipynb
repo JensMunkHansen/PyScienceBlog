{
 "cells": [
  {
   "cell_type": "code",
   "execution_count": null,
   "metadata": {},
   "outputs": [],
   "source": [
    "import vtk"
   ]
  },
  {
   "cell_type": "code",
   "execution_count": null,
   "metadata": {},
   "outputs": [],
   "source": [
    "reader = vtk.vtkMetaImageReader()\n",
    "reader.SetFileName(\"brain_segmentation_new.mha\")\n",
    "reader.Update()\n",
    "\n",
    "imgOriginal = reader.GetOutput()"
   ]
  },
  {
   "cell_type": "code",
   "execution_count": null,
   "metadata": {},
   "outputs": [],
   "source": [
    "resampler = vtk.vtkImageReslice()\n",
    "resampler.SetInputData(imgOriginal)\n",
    "resampler.SetOutputSpacing(0.5, 0.5, 0.5)\n",
    "resampler.SetInterpolationModeToNearestNeighbor()\n",
    "resampler.Update()"
   ]
  },
  {
   "cell_type": "code",
   "execution_count": null,
   "metadata": {},
   "outputs": [],
   "source": [
    "writer = vtk.vtkMetaImageWriter()\n",
    "writer.SetFileName(\"brain_segmentation_new_HR.mha\")\n",
    "writer.SetInputData(resampler.GetOutput())\n",
    "writer.SetCompression(1)\n",
    "writer.Write()"
   ]
  },
  {
   "cell_type": "code",
   "execution_count": null,
   "metadata": {},
   "outputs": [],
   "source": []
  }
 ],
 "metadata": {
  "kernelspec": {
   "display_name": "Python 3 (ipykernel)",
   "language": "python",
   "name": "python3"
  },
  "language_info": {
   "codemirror_mode": {
    "name": "ipython",
    "version": 3
   },
   "file_extension": ".py",
   "mimetype": "text/x-python",
   "name": "python",
   "nbconvert_exporter": "python",
   "pygments_lexer": "ipython3",
   "version": "3.10.5"
  }
 },
 "nbformat": 4,
 "nbformat_minor": 1
}

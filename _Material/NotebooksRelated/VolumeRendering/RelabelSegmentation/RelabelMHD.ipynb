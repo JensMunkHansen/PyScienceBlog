{
 "metadata": {
  "name": "",
  "signature": "sha256:20311916ba72c22fc722d52c2f7b1f044929401fb9e13750f3966c671c0c0537"
 },
 "nbformat": 3,
 "nbformat_minor": 0,
 "worksheets": [
  {
   "cells": [
    {
     "cell_type": "markdown",
     "metadata": {},
     "source": [
      "This notebook shows how to load a labelfield in a `.mha` file and relabel it to have consecutive label indices"
     ]
    },
    {
     "cell_type": "code",
     "collapsed": false,
     "input": [
      "import SimpleITK\n",
      "import numpy\n",
      "import os\n",
      "import csv"
     ],
     "language": "python",
     "metadata": {},
     "outputs": [],
     "prompt_number": 4
    },
    {
     "cell_type": "markdown",
     "metadata": {},
     "source": [
      "Load image"
     ]
    },
    {
     "cell_type": "code",
     "collapsed": false,
     "input": [
      "imgOld = SimpleITK.ReadImage(\"brain_segmentation_old.mha\")"
     ],
     "language": "python",
     "metadata": {},
     "outputs": [],
     "prompt_number": 21
    },
    {
     "cell_type": "markdown",
     "metadata": {},
     "source": [
      "Convert image to numpy"
     ]
    },
    {
     "cell_type": "code",
     "collapsed": false,
     "input": [
      "ndaOld = SimpleITK.GetArrayFromImage(imgOld)"
     ],
     "language": "python",
     "metadata": {},
     "outputs": [],
     "prompt_number": 22
    },
    {
     "cell_type": "markdown",
     "metadata": {},
     "source": [
      "Find unique values, i.e., label indices"
     ]
    },
    {
     "cell_type": "code",
     "collapsed": false,
     "input": [
      "_indices = numpy.unique(ndaOld)\n",
      "_indices"
     ],
     "language": "python",
     "metadata": {},
     "outputs": [
      {
       "metadata": {},
       "output_type": "pyout",
       "prompt_number": 23,
       "text": [
        "array([   0,    1,    2,    4,    5,    7,    8,   10,   11,   12,   13,\n",
        "         15,   16,   17,   18,   24,   25,   26,   28,   35,   40,   41,\n",
        "         43,   44,   46,   47,   49,   50,   51,   52,   53,   54,   58,\n",
        "         60,   61,   62,   66,   71,   72,   78,   79,   80,   83,   84,\n",
        "         85,   96,  100,  142,  200,  216,  254,  255,  500,  501,  502,\n",
        "        503,  504,  505,  506,  507,  508,  509,  510,  511,  512,  513,\n",
        "        514,  515,  516,  517,  518,  519,  520,  521,  522,  523,  524,\n",
        "        525, 1000, 1001, 1002, 1003, 1004, 1005, 1006, 1007, 1008, 1009,\n",
        "       1010, 1011, 1012, 1013, 1014, 1015, 1016, 1017, 1018, 1019, 1020,\n",
        "       1021, 1022, 1023, 1024, 1025, 1026, 1027, 1028, 1029, 1030, 1031,\n",
        "       1032, 1033, 1034, 2000, 2001, 2002, 2003, 2004, 2005, 2006, 2007,\n",
        "       2008, 2009, 2010, 2011, 2012, 2013, 2014, 2015, 2016, 2017, 2018,\n",
        "       2019, 2020, 2021, 2022, 2023, 2024, 2025, 2026, 2027, 2028, 2029,\n",
        "       2030, 2031, 2032, 2033, 2034, 3000, 3001, 3002, 3003, 3004, 3005,\n",
        "       3007, 3008, 3011, 3012], dtype=int16)"
       ]
      }
     ],
     "prompt_number": 23
    },
    {
     "cell_type": "markdown",
     "metadata": {},
     "source": [
      "Load colorfile into dictionary"
     ]
    },
    {
     "cell_type": "code",
     "collapsed": false,
     "input": [
      "fid = open(\"colorfile_old.txt\", \"r\")\n",
      "reader = csv.reader(fid)\n",
      "\n",
      "dictRgbOld = {}\n",
      "for line in reader:\n",
      "    dictRgbOld[int(line[0])] = [line[1], line[2], line[3], line[4]]\n",
      "fid.close()"
     ],
     "language": "python",
     "metadata": {},
     "outputs": [],
     "prompt_number": 24
    },
    {
     "cell_type": "markdown",
     "metadata": {},
     "source": [
      "Clean colorfile dictionary (in case there are pixels with labels that don't apply)"
     ]
    },
    {
     "cell_type": "code",
     "collapsed": false,
     "input": [
      "for idx in _indices:\n",
      "    if idx not in dictRgbOld.keys():\n",
      "        ndaOld[ndaOld==idx] = 0\n",
      "        \n",
      "_indices = numpy.unique(ndaOld)\n",
      "_indices"
     ],
     "language": "python",
     "metadata": {},
     "outputs": [
      {
       "metadata": {},
       "output_type": "pyout",
       "prompt_number": 25,
       "text": [
        "array([   0,    2,    4,    5,    7,    8,   10,   11,   12,   13,   15,\n",
        "         17,   18,   24,   25,   26,   28,   35,   40,   41,   43,   44,\n",
        "         46,   47,   49,   50,   51,   52,   53,   54,   58,   60,   61,\n",
        "         66,   71,   72,   78,   79,   83,   84,   85,   96,  100,  142,\n",
        "        200,  216,  500,  501,  502,  503,  504,  505,  506,  507,  508,\n",
        "        509,  510,  511,  512,  513,  514,  515,  516,  517,  518,  519,\n",
        "        520,  521,  522,  523,  524,  525, 1000, 1001, 1002, 1003, 1005,\n",
        "       1006, 1007, 1008, 1009, 1010, 1011, 1012, 1013, 1014, 1015, 1016,\n",
        "       1017, 1018, 1019, 1020, 1021, 1022, 1023, 1024, 1025, 1026, 1027,\n",
        "       1028, 1029, 1030, 1031, 1032, 1033, 1034, 2000, 2001, 2002, 2003,\n",
        "       2005, 2006, 2007, 2008, 2009, 2010, 2011, 2012, 2013, 2014, 2015,\n",
        "       2016, 2017, 2018, 2019, 2020, 2021, 2022, 2023, 2024, 2025, 2026,\n",
        "       2027, 2028, 2029, 2030, 2031, 2032, 2033, 2034, 3000, 3001, 3002,\n",
        "       3003, 3004, 3005, 3007, 3008, 3011, 3012], dtype=int16)"
       ]
      }
     ],
     "prompt_number": 25
    },
    {
     "cell_type": "markdown",
     "metadata": {},
     "source": [
      "Relabel"
     ]
    },
    {
     "cell_type": "code",
     "collapsed": false,
     "input": [
      "counterIdxNew = 0\n",
      "dictRgbNew = {}\n",
      "\n",
      "for idx in _indices:\n",
      "    ndaOld[ndaOld==idx] = counterIdxNew\n",
      "    dictRgbNew[counterIdxNew] = dictRgbOld[idx]\n",
      "    counterIdxNew += 1"
     ],
     "language": "python",
     "metadata": {},
     "outputs": [],
     "prompt_number": 26
    },
    {
     "cell_type": "markdown",
     "metadata": {},
     "source": [
      "Create new `SimpleITK.Image` out of cleaned numpy array"
     ]
    },
    {
     "cell_type": "code",
     "collapsed": false,
     "input": [
      "imgNew = SimpleITK.GetImageFromArray(ndaOld)\n",
      "imgNew.SetSpacing(imgOld.GetSpacing())\n",
      "imgNew.SetOrigin(imgOld.GetOrigin())"
     ],
     "language": "python",
     "metadata": {},
     "outputs": [],
     "prompt_number": 31
    },
    {
     "cell_type": "markdown",
     "metadata": {},
     "source": [
      "Save new colorfile"
     ]
    },
    {
     "cell_type": "code",
     "collapsed": false,
     "input": [
      "fid = open(\"colorfile_new.txt\", \"wb\")\n",
      "writer = csv.writer(fid)\n",
      "\n",
      "for idx in dictRgbNew.keys():\n",
      "    l = list(dictRgbNew[idx])\n",
      "    l.insert(0, idx)\n",
      "    writer.writerow(l)\n",
      "\n",
      "fid.close()"
     ],
     "language": "python",
     "metadata": {},
     "outputs": []
    },
    {
     "cell_type": "markdown",
     "metadata": {},
     "source": [
      "Save new `.mha` file"
     ]
    },
    {
     "cell_type": "code",
     "collapsed": false,
     "input": [
      "SimpleITK.WriteImage(imgNew, \"brain_segmentation_new.mha\", useCompression=True)"
     ],
     "language": "python",
     "metadata": {},
     "outputs": [],
     "prompt_number": 67
    },
    {
     "cell_type": "code",
     "collapsed": false,
     "input": [],
     "language": "python",
     "metadata": {},
     "outputs": []
    }
   ],
   "metadata": {}
  }
 ]
}
{
 "cells": [
  {
   "cell_type": "markdown",
   "metadata": {},
   "source": [
    "# Conversion of Image Data from SimpleITK to Numpy and VTK "
   ]
  },
  {
   "cell_type": "markdown",
   "metadata": {},
   "source": [
    "## Imports"
   ]
  },
  {
   "cell_type": "code",
   "execution_count": null,
   "metadata": {},
   "outputs": [],
   "source": [
    "import numpy\n",
    "import vtk\n",
    "import SimpleITK\n",
    "from vtk.util.numpy_support import numpy_to_vtk\n",
    "import matplotlib.pyplot as plt\n",
    "%matplotlib inline"
   ]
  },
  {
   "cell_type": "markdown",
   "metadata": {},
   "source": [
    "---"
   ]
  },
  {
   "cell_type": "markdown",
   "metadata": {},
   "source": [
    "## Helper-functions"
   ]
  },
  {
   "cell_type": "code",
   "execution_count": null,
   "metadata": {},
   "outputs": [],
   "source": [
    "def sitk_show(img, title=None, margin=0.05, dpi=40 ):\n",
    "    nda = SimpleITK.GetArrayFromImage(img)\n",
    "    spacing = img.GetSpacing()\n",
    "    figsize = (1 + margin) * nda.shape[0] / dpi, (1 + margin) * nda.shape[1] / dpi\n",
    "    extent = (0, nda.shape[1]*spacing[1], nda.shape[0]*spacing[0], 0)\n",
    "    fig = plt.figure(figsize=figsize, dpi=dpi)\n",
    "    ax = fig.add_axes([margin, margin, 1 - 2*margin, 1 - 2*margin])\n",
    "\n",
    "    plt.set_cmap(\"gray\")\n",
    "    ax.imshow(nda,extent=extent,interpolation=None)\n",
    "    \n",
    "    if title:\n",
    "        plt.title(title)\n",
    "    \n",
    "    plt.show()"
   ]
  },
  {
   "cell_type": "markdown",
   "metadata": {},
   "source": [
    "We're gonna use this function to embed a still image of a VTK render"
   ]
  },
  {
   "cell_type": "code",
   "execution_count": null,
   "metadata": {},
   "outputs": [],
   "source": [
    "from IPython.display import Image\n",
    "def vtk_show(renderer, width=400, height=300):\n",
    "    \"\"\"\n",
    "    Takes vtkRenderer instance and returns an IPython Image with the rendering.\n",
    "    \"\"\"\n",
    "    renderWindow = vtk.vtkRenderWindow()\n",
    "    renderWindow.SetOffScreenRendering(1)\n",
    "    renderWindow.AddRenderer(renderer)\n",
    "    renderWindow.SetSize(width, height)\n",
    "    renderWindow.Render()\n",
    "     \n",
    "    windowToImageFilter = vtk.vtkWindowToImageFilter()\n",
    "    windowToImageFilter.SetInput(renderWindow)\n",
    "    windowToImageFilter.Update()\n",
    "     \n",
    "    writer = vtk.vtkPNGWriter()\n",
    "    writer.SetWriteToMemory(1)\n",
    "    writer.SetInputConnection(windowToImageFilter.GetOutputPort())\n",
    "    writer.Write()\n",
    "    data = writer.GetResult()\n",
    "    \n",
    "    return Image(data)"
   ]
  },
  {
   "cell_type": "markdown",
   "metadata": {},
   "source": [
    "We're gonna use these functions to quickly 'convert' between SimpleITK and VTK data types"
   ]
  },
  {
   "cell_type": "code",
   "execution_count": null,
   "metadata": {},
   "outputs": [],
   "source": [
    "dctITKtoVTK = {SimpleITK.sitkInt8: vtk.VTK_TYPE_INT8,\n",
    "               SimpleITK.sitkInt16: vtk.VTK_TYPE_INT16,\n",
    "               SimpleITK.sitkInt32: vtk.VTK_TYPE_INT32,\n",
    "               SimpleITK.sitkInt64: vtk.VTK_TYPE_INT64,\n",
    "               SimpleITK.sitkUInt8: vtk.VTK_TYPE_UINT8,\n",
    "               SimpleITK.sitkUInt16: vtk.VTK_TYPE_UINT16,\n",
    "               SimpleITK.sitkUInt32: vtk.VTK_TYPE_UINT32,\n",
    "               SimpleITK.sitkUInt64: vtk.VTK_TYPE_UINT64,\n",
    "               SimpleITK.sitkFloat32: vtk.VTK_TYPE_FLOAT32,\n",
    "               SimpleITK.sitkFloat64: vtk.VTK_TYPE_FLOAT64}\n",
    "dctVTKtoITK = dict(zip(dctITKtoVTK.values(), \n",
    "                       dctITKtoVTK.keys()))\n",
    "\n",
    "def convertTypeITKtoVTK(typeITK):\n",
    "    if typeITK in dctITKtoVTK:\n",
    "        return dctITKtoVTK[typeITK]\n",
    "    else:\n",
    "        raise ValueError(\"Type not supported\")\n",
    "\n",
    "def convertTypeVTKtoITK(typeVTK):\n",
    "    if typeVTK in dctVTKtoITK:\n",
    "        return dctVTKtoITK[typeVTK]\n",
    "    else:\n",
    "        raise ValueError(\"Type not supported\")"
   ]
  },
  {
   "cell_type": "markdown",
   "metadata": {},
   "source": [
    "---"
   ]
  },
  {
   "cell_type": "markdown",
   "metadata": {},
   "source": [
    "## Options"
   ]
  },
  {
   "cell_type": "code",
   "execution_count": null,
   "metadata": {},
   "outputs": [],
   "source": [
    "filenameMyHead = \"./MyHead.nii\""
   ]
  },
  {
   "cell_type": "markdown",
   "metadata": {},
   "source": [
    "Read in data with SimpleITK"
   ]
  },
  {
   "cell_type": "code",
   "execution_count": null,
   "metadata": {},
   "outputs": [],
   "source": [
    "imgMyHead_SimpleITK = SimpleITK.ReadImage(filenameMyHead)"
   ]
  },
  {
   "cell_type": "code",
   "execution_count": null,
   "metadata": {},
   "outputs": [],
   "source": [
    "sitk_show(imgMyHead_SimpleITK[:,100,:])"
   ]
  },
  {
   "cell_type": "markdown",
   "metadata": {},
   "source": [
    "Convert `SimpleITK.Image` object to a `numpy.ndarray`"
   ]
  },
  {
   "cell_type": "code",
   "execution_count": null,
   "metadata": {},
   "outputs": [],
   "source": [
    "imgMyHead_NumPy = numpy.ravel(SimpleITK.GetArrayFromImage(imgMyHead_SimpleITK), order='C')"
   ]
  },
  {
   "cell_type": "code",
   "execution_count": null,
   "metadata": {},
   "outputs": [],
   "source": [
    "info_vec = vtk.vtkInformationVector()\n",
    "info_vec.SetNumberOfInformationObjects(1)\n",
    "info_obj = info_vec.GetInformationObject(0)\n",
    "print(info_obj)\n",
    "vtk.vtkDataObject.SetPointDataActiveScalarInfo(info_obj,\n",
    "                                              convertTypeITKtoVTK(imgMyHead_SimpleITK.GetPixelID()),\n",
    "                                              imgMyHead_SimpleITK.GetNumberOfComponentsPerPixel())\n",
    "print(info_obj, info_vec)"
   ]
  },
  {
   "cell_type": "markdown",
   "metadata": {},
   "source": [
    "Convert `numpy.ndarray` to a `vtk.vtkImageData` object"
   ]
  },
  {
   "cell_type": "code",
   "execution_count": null,
   "metadata": {},
   "outputs": [],
   "source": [
    "imgMyHead_VTK = vtk.vtkImageData()\n",
    "imgMyHead_VTK.SetSpacing(imgMyHead_SimpleITK.GetSpacing())\n",
    "imgMyHead_VTK.SetOrigin(imgMyHead_SimpleITK.GetOrigin())\n",
    "imgMyHead_VTK.SetDimensions(imgMyHead_SimpleITK.GetSize())\n",
    "# imgMyHead_VTK.SetScalarType(convertTypeITKtoVTK(imgMyHead_SimpleITK.GetPixelID()), info_obj)\n",
    "imgMyHead_VTK.AllocateScalars(convertTypeITKtoVTK(imgMyHead_SimpleITK.GetPixelID()),\n",
    "                             imgMyHead_SimpleITK.GetNumberOfComponentsPerPixel())\n",
    "# imgMyHead_VTK.SetNumberOfScalarComponents(imgMyHead_SimpleITK.GetNumberOfComponentsPerPixel())"
   ]
  },
  {
   "cell_type": "code",
   "execution_count": null,
   "metadata": {},
   "outputs": [],
   "source": [
    "imgMyHead_NumPyToVTK = numpy_to_vtk(imgMyHead_NumPy, \n",
    "                                    deep=True, \n",
    "                                    array_type=convertTypeITKtoVTK(imgMyHead_SimpleITK.GetPixelID()))\n",
    "\n",
    "imgMyHead_VTK.GetPointData().SetScalars(imgMyHead_NumPyToVTK)"
   ]
  },
  {
   "cell_type": "code",
   "execution_count": null,
   "metadata": {},
   "outputs": [],
   "source": []
  }
 ],
 "metadata": {
  "anaconda-cloud": {},
  "kernelspec": {
   "display_name": "Python 3 (ipykernel)",
   "language": "python",
   "name": "python3"
  },
  "language_info": {
   "codemirror_mode": {
    "name": "ipython",
    "version": 3
   },
   "file_extension": ".py",
   "mimetype": "text/x-python",
   "name": "python",
   "nbconvert_exporter": "python",
   "pygments_lexer": "ipython3",
   "version": "3.10.5"
  }
 },
 "nbformat": 4,
 "nbformat_minor": 1
}

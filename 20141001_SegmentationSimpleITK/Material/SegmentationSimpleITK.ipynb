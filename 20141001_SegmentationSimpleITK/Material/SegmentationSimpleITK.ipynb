{
 "cells": [
  {
   "cell_type": "markdown",
   "metadata": {},
   "source": [
    "## Imports"
   ]
  },
  {
   "cell_type": "code",
   "execution_count": null,
   "metadata": {},
   "outputs": [],
   "source": [
    "import os\n",
    "import numpy\n",
    "import SimpleITK\n",
    "import matplotlib.pyplot as plt\n",
    "%pylab inline"
   ]
  },
  {
   "cell_type": "markdown",
   "metadata": {},
   "source": [
    "---"
   ]
  },
  {
   "cell_type": "markdown",
   "metadata": {},
   "source": [
    "## Helper-Functions"
   ]
  },
  {
   "cell_type": "markdown",
   "metadata": {},
   "source": [
    "We're gonna use this function to quickly plot a 2D SimpleITK image with a grayscale colormap and accompanying axes"
   ]
  },
  {
   "cell_type": "code",
   "execution_count": null,
   "metadata": {},
   "outputs": [],
   "source": [
    "def sitk_show(img, title=None, margin=0.05, dpi=40 ):\n",
    "    nda = SimpleITK.GetArrayFromImage(img)\n",
    "    spacing = img.GetSpacing()\n",
    "    figsize = (1 + margin) * nda.shape[0] / dpi, (1 + margin) * nda.shape[1] / dpi\n",
    "    extent = (0, nda.shape[1]*spacing[1], nda.shape[0]*spacing[0], 0)\n",
    "    fig = plt.figure(figsize=figsize, dpi=dpi)\n",
    "    ax = fig.add_axes([margin, margin, 1 - 2*margin, 1 - 2*margin])\n",
    "\n",
    "    plt.set_cmap(\"gray\")\n",
    "    ax.imshow(nda,extent=extent,interpolation=None)\n",
    "    \n",
    "    if title:\n",
    "        plt.title(title)\n",
    "    \n",
    "    plt.show()"
   ]
  },
  {
   "cell_type": "markdown",
   "metadata": {},
   "source": [
    "---"
   ]
  },
  {
   "cell_type": "markdown",
   "metadata": {},
   "source": [
    "## Options"
   ]
  },
  {
   "cell_type": "code",
   "execution_count": null,
   "metadata": {},
   "outputs": [],
   "source": [
    "# Directory where the DICOM files are being stored (in this\n",
    "# case the 'MyHead' folder). \n",
    "pathDicom = \"./MyHead/\"\n",
    "\n",
    "# Z slice of the DICOM files to process. In the interest of\n",
    "# simplicity, segmentation will be limited to a single 2D\n",
    "# image but all processes are entirely applicable to the 3D image\n",
    "idxSlice = 50\n",
    "\n",
    "# int labels to assign to the segmented white and gray matter.\n",
    "# These need to be different integers but their values themselves\n",
    "# don't matter\n",
    "labelWhiteMatter = 1\n",
    "labelGrayMatter = 2"
   ]
  },
  {
   "cell_type": "markdown",
   "metadata": {},
   "source": [
    "---"
   ]
  },
  {
   "cell_type": "markdown",
   "metadata": {},
   "source": [
    "## DICOM Input"
   ]
  },
  {
   "cell_type": "markdown",
   "metadata": {},
   "source": [
    "Load and read-in the DICOM files"
   ]
  },
  {
   "cell_type": "code",
   "execution_count": null,
   "metadata": {},
   "outputs": [],
   "source": [
    "reader = SimpleITK.ImageSeriesReader()\n",
    "filenamesDICOM = reader.GetGDCMSeriesFileNames(pathDicom)\n",
    "reader.SetFileNames(filenamesDICOM)\n",
    "imgOriginal = reader.Execute()"
   ]
  },
  {
   "cell_type": "markdown",
   "metadata": {},
   "source": [
    "Limit image to a single 2D slice"
   ]
  },
  {
   "cell_type": "code",
   "execution_count": null,
   "metadata": {},
   "outputs": [],
   "source": [
    "imgOriginal = imgOriginal[:,:,idxSlice]"
   ]
  },
  {
   "cell_type": "markdown",
   "metadata": {},
   "source": [
    "Visualize original data"
   ]
  },
  {
   "cell_type": "code",
   "execution_count": null,
   "metadata": {},
   "outputs": [],
   "source": [
    "sitk_show(imgOriginal)"
   ]
  },
  {
   "cell_type": "markdown",
   "metadata": {},
   "source": [
    "---"
   ]
  },
  {
   "cell_type": "markdown",
   "metadata": {},
   "source": [
    "## Smoothing"
   ]
  },
  {
   "cell_type": "markdown",
   "metadata": {},
   "source": [
    "Apply a curvature-flow filter to smoothen the image (get rid of image noise)"
   ]
  },
  {
   "cell_type": "code",
   "execution_count": null,
   "metadata": {},
   "outputs": [],
   "source": [
    "imgSmooth = SimpleITK.CurvatureFlow(image1=imgOriginal,\n",
    "                                    timeStep=0.125,\n",
    "                                    numberOfIterations=5)\n",
    "\n",
    "# blurFilter = SimpleITK.CurvatureFlowImageFilter()\n",
    "# blurFilter.SetNumberOfIterations(5)\n",
    "# blurFilter.SetTimeStep(0.125)\n",
    "# imgSmooth = blurFilter.Execute(imgOriginal)\n",
    "\n",
    "sitk_show(imgSmooth)"
   ]
  },
  {
   "cell_type": "markdown",
   "metadata": {},
   "source": [
    "---"
   ]
  },
  {
   "cell_type": "markdown",
   "metadata": {},
   "source": [
    "## Segmentation with the `ConnectedThreshold` filter"
   ]
  },
  {
   "cell_type": "markdown",
   "metadata": {},
   "source": [
    "Initial segmentation of white matter"
   ]
  },
  {
   "cell_type": "code",
   "execution_count": null,
   "metadata": {},
   "outputs": [],
   "source": [
    "lstSeeds = [(150,75)]\n",
    "\n",
    "imgWhiteMatter = SimpleITK.ConnectedThreshold(image1=imgSmooth, \n",
    "                                              seedList=lstSeeds, \n",
    "                                              lower=130, \n",
    "                                              upper=190,\n",
    "                                              replaceValue=labelWhiteMatter)"
   ]
  },
  {
   "cell_type": "markdown",
   "metadata": {},
   "source": [
    "Visualization with label overlay"
   ]
  },
  {
   "cell_type": "code",
   "execution_count": null,
   "metadata": {},
   "outputs": [],
   "source": [
    "# Rescale 'imgSmooth' and cast it to an integer type to match that of 'imgWhiteMatter'\n",
    "imgSmoothInt = SimpleITK.Cast(SimpleITK.RescaleIntensity(imgSmooth), imgWhiteMatter.GetPixelID())\n",
    "\n",
    "# Use 'LabelOverlay' to overlay 'imgSmooth' and 'imgWhiteMatter'\n",
    "sitk_show(SimpleITK.LabelOverlay(imgSmoothInt, imgWhiteMatter))"
   ]
  },
  {
   "cell_type": "markdown",
   "metadata": {},
   "source": [
    "Fill holes in the white matter label through `VotingBinaryHoleFilling`"
   ]
  },
  {
   "cell_type": "code",
   "execution_count": null,
   "metadata": {},
   "outputs": [],
   "source": [
    "imgWhiteMatterNoHoles = SimpleITK.VotingBinaryHoleFilling(image1=imgWhiteMatter,\n",
    "                                                          radius=[2]*3,\n",
    "                                                          majorityThreshold=1,\n",
    "                                                          backgroundValue=0,\n",
    "                                                          foregroundValue=labelWhiteMatter)\n",
    "\n",
    "sitk_show(SimpleITK.LabelOverlay(imgSmoothInt, imgWhiteMatterNoHoles))"
   ]
  },
  {
   "cell_type": "markdown",
   "metadata": {},
   "source": [
    "Segmentation & hole-filling of gray matter"
   ]
  },
  {
   "cell_type": "code",
   "execution_count": null,
   "metadata": {},
   "outputs": [],
   "source": [
    "lstSeeds = [(119, 83), (198, 80), (185, 102), (164, 43)]\n",
    "\n",
    "imgGrayMatter = SimpleITK.ConnectedThreshold(image1=imgSmooth, \n",
    "                                             seedList=lstSeeds, \n",
    "                                             lower=150, \n",
    "                                             upper=270,\n",
    "                                             replaceValue=labelGrayMatter)\n",
    "\n",
    "imgGrayMatterNoHoles = SimpleITK.VotingBinaryHoleFilling(image1=imgGrayMatter,\n",
    "                                                         radius=[2]*3,\n",
    "                                                         majorityThreshold=1,\n",
    "                                                         backgroundValue=0,\n",
    "                                                         foregroundValue=labelGrayMatter)\n",
    "\n",
    "sitk_show(SimpleITK.LabelOverlay(imgSmoothInt, imgGrayMatterNoHoles))"
   ]
  },
  {
   "cell_type": "markdown",
   "metadata": {},
   "source": [
    "Bitwire OR combination of the white matter and gray matter labels"
   ]
  },
  {
   "cell_type": "code",
   "execution_count": null,
   "metadata": {},
   "outputs": [],
   "source": [
    "imgLabels = imgWhiteMatterNoHoles | imgGrayMatterNoHoles\n",
    "\n",
    "\n",
    "sitk_show(SimpleITK.LabelOverlay(imgSmoothInt, imgLabels))"
   ]
  },
  {
   "cell_type": "markdown",
   "metadata": {},
   "source": [
    "Assignment of common areas to the gray matter"
   ]
  },
  {
   "cell_type": "code",
   "execution_count": null,
   "metadata": {},
   "outputs": [],
   "source": [
    "imgMask= imgWhiteMatterNoHoles/labelWhiteMatter * imgGrayMatterNoHoles/labelGrayMatter\n",
    "imgWhiteMatterNoHoles -= imgMask*labelWhiteMatter\n",
    "\n",
    "imgLabels = imgWhiteMatterNoHoles + imgGrayMatterNoHoles\n",
    "\n",
    "sitk_show(SimpleITK.LabelOverlay(imgSmoothInt, imgLabels))"
   ]
  },
  {
   "cell_type": "code",
   "execution_count": null,
   "metadata": {},
   "outputs": [],
   "source": [
    "sitk_show(SimpleITK.LabelOverlay(imgSmoothInt, SimpleITK.LabelContour(imgLabels)))"
   ]
  },
  {
   "cell_type": "code",
   "execution_count": null,
   "metadata": {},
   "outputs": [],
   "source": []
  }
 ],
 "metadata": {
  "kernelspec": {
   "display_name": "Python 3 (ipykernel)",
   "language": "python",
   "name": "python3"
  },
  "language_info": {
   "codemirror_mode": {
    "name": "ipython",
    "version": 3
   },
   "file_extension": ".py",
   "mimetype": "text/x-python",
   "name": "python",
   "nbconvert_exporter": "python",
   "pygments_lexer": "ipython3",
   "version": "3.10.5"
  }
 },
 "nbformat": 4,
 "nbformat_minor": 1
}

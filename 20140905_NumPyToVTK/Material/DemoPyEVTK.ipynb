{
 "metadata": {
  "name": "",
  "signature": "sha256:c190cf4ef0be45069d40fb5a7864e691be688d6bd21b47a9fdf4e0009d8913fd"
 },
 "nbformat": 3,
 "nbformat_minor": 0,
 "worksheets": [
  {
   "cells": [
    {
     "cell_type": "code",
     "collapsed": false,
     "input": [
      "import numpy"
     ],
     "language": "python",
     "metadata": {},
     "outputs": [],
     "prompt_number": 1
    },
    {
     "cell_type": "code",
     "collapsed": false,
     "input": [
      "import plotly\n",
      "from plotly.graph_objs import *\n",
      "plotly.plotly.sign_in(\"somada141\", \"1t2qb5b9y1\")"
     ],
     "language": "python",
     "metadata": {},
     "outputs": [],
     "prompt_number": 2
    },
    {
     "cell_type": "markdown",
     "metadata": {},
     "source": [
      "Create a Julia set under the `julia` NumPy array. Credit for this code goes to [Ted Burke](http://batchloaf.wordpress.com/) and his post [here](http://batchloaf.wordpress.com/2013/02/10/creating-julia-set-images-in-python/)"
     ]
    },
    {
     "cell_type": "code",
     "collapsed": false,
     "input": [
      "# Specify image width and height\n",
      "w, h = 300, 300\n",
      " \n",
      "# Specify real and imaginary range of image\n",
      "re_min, re_max = -2.0, 2.0\n",
      "im_min, im_max = -2.0, 2.0\n",
      " \n",
      "# Pick a value for c\n",
      "c = complex(0.0,0.65)\n",
      " \n",
      "# Generate evenly spaced values over real and imaginary ranges\n",
      "real_range = numpy.arange(re_min, re_max, (re_max - re_min) / w)\n",
      "imag_range = numpy.arange(im_max, im_min, (im_min - im_max) / h)\n",
      "julia = numpy.zeros((len(real_range), len(imag_range)))\n",
      "\n",
      "# Generate pixel values and write to file\n",
      "for i in range(len(imag_range)):\n",
      "    for r in range(len(real_range)):\n",
      "        z = complex(real_range[r], imag_range[i])\n",
      "        n = 255\n",
      "        while abs(z) < 10 and n >= 5:\n",
      "            z = z*z + c\n",
      "            n -= 5\n",
      "        # Write pixel to file\n",
      "        julia[r,i] = n"
     ],
     "language": "python",
     "metadata": {},
     "outputs": [],
     "prompt_number": 3
    },
    {
     "cell_type": "markdown",
     "metadata": {},
     "source": [
      "Using Plotly to create a `heatmap`. See [here](https://plot.ly/python/heatmaps/) for the docs and take a look at my [previous post](https://pyscience.wordpress.com/2014/09/02/interactive-plotting-in-ipython-notebook-part-22-plotly-2/) here to see how to use Plotly"
     ]
    },
    {
     "cell_type": "code",
     "collapsed": false,
     "input": [
      "data = Data([\n",
      "    Heatmap(\n",
      "        z=julia,\n",
      "    )\n",
      "])\n",
      "layout = Layout(\n",
      "    autosize=False,\n",
      "    width = 600,\n",
      "    height = 600,\n",
      "    title='Julia 0.0+0.65j'\n",
      ")\n",
      "fig = Figure(data=data, layout=layout)\n",
      "\n",
      "plot_url = plotly.plotly.iplot(fig, filename='Julia')"
     ],
     "language": "python",
     "metadata": {},
     "outputs": [
      {
       "html": [
        "<iframe id=\"igraph\" scrolling=\"no\" style=\"border:none;\"seamless=\"seamless\" src=\"https://plot.ly/~somada141/22\" height=\"525\" width=\"100%\"></iframe>"
       ],
       "metadata": {},
       "output_type": "display_data",
       "text": [
        "<IPython.core.display.HTML at 0x1099af950>"
       ]
      }
     ],
     "prompt_number": 4
    },
    {
     "cell_type": "code",
     "collapsed": false,
     "input": [
      "from pyevtk.hl import gridToVTK\n",
      "\n",
      "noSlices = 5\n",
      "juliaStacked = numpy.dstack([julia]*noSlices)\n",
      "\n",
      "x = numpy.arange(0, w+1)\n",
      "y = numpy.arange(0, h+1)\n",
      "z = numpy.arange(0, noSlices+1)\n",
      "\n",
      "gridToVTK(\"./julia\", x, y, z, cellData = {'julia': juliaStacked})"
     ],
     "language": "python",
     "metadata": {},
     "outputs": [
      {
       "metadata": {},
       "output_type": "pyout",
       "prompt_number": 7,
       "text": [
        "'/Users/somada141/Data/Documentation/Blogging/PyScience/20140905_NumPyToVTK/Material/julia.vtr'"
       ]
      }
     ],
     "prompt_number": 7
    },
    {
     "cell_type": "code",
     "collapsed": false,
     "input": [],
     "language": "python",
     "metadata": {},
     "outputs": []
    }
   ],
   "metadata": {}
  }
 ]
}
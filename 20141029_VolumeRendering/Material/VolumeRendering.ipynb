{
 "cells": [
  {
   "cell_type": "markdown",
   "metadata": {},
   "source": [
    "# Volume Rendering with Python and VTK"
   ]
  },
  {
   "cell_type": "markdown",
   "metadata": {},
   "source": [
    "## Imports"
   ]
  },
  {
   "cell_type": "code",
   "execution_count": null,
   "metadata": {},
   "outputs": [],
   "source": [
    "import os\n",
    "import numpy\n",
    "import vtk"
   ]
  },
  {
   "cell_type": "markdown",
   "metadata": {},
   "source": [
    "---"
   ]
  },
  {
   "cell_type": "markdown",
   "metadata": {},
   "source": [
    "## Helper-functions"
   ]
  },
  {
   "cell_type": "markdown",
   "metadata": {},
   "source": [
    "We're gonna use this function to embed a still image of a VTK render"
   ]
  },
  {
   "cell_type": "code",
   "execution_count": null,
   "metadata": {},
   "outputs": [],
   "source": [
    "from IPython.display import Image\n",
    "def vtk_show(renderer, width=400, height=300):\n",
    "    \"\"\"\n",
    "    Takes vtkRenderer instance and returns an IPython Image with the rendering.\n",
    "    \"\"\"\n",
    "    renderWindow = vtk.vtkRenderWindow()\n",
    "    renderWindow.SetOffScreenRendering(1)\n",
    "    renderWindow.AddRenderer(renderer)\n",
    "    renderWindow.SetSize(width, height)\n",
    "    renderWindow.Render()\n",
    "     \n",
    "    windowToImageFilter = vtk.vtkWindowToImageFilter()\n",
    "    windowToImageFilter.SetInput(renderWindow)\n",
    "    windowToImageFilter.Update()\n",
    "     \n",
    "    writer = vtk.vtkPNGWriter()\n",
    "    writer.SetWriteToMemory(1)\n",
    "    writer.SetInputConnection(windowToImageFilter.GetOutputPort())\n",
    "    writer.Write()\n",
    "    data = writer.GetResult()\n",
    "    \n",
    "    return Image(data)"
   ]
  },
  {
   "cell_type": "code",
   "execution_count": null,
   "metadata": {},
   "outputs": [],
   "source": [
    "def createDummyRenderer():\n",
    "    renderer = vtk.vtkRenderer()\n",
    "    renderer.SetBackground(1.0, 1.0, 1.0)\n",
    "\n",
    "    camera = renderer.MakeCamera()\n",
    "    camera.SetPosition(-256, -256, 512)\n",
    "    camera.SetFocalPoint(0.0, 0.0, 255.0)\n",
    "    camera.SetViewAngle(30.0)\n",
    "    camera.SetViewUp(0.46, -0.80, -0.38)\n",
    "    renderer.SetActiveCamera(camera)\n",
    "    \n",
    "    return renderer"
   ]
  },
  {
   "cell_type": "code",
   "execution_count": null,
   "metadata": {},
   "outputs": [],
   "source": [
    "l2n = lambda l: numpy.array(l)\n",
    "n2l = lambda n: list(n)"
   ]
  },
  {
   "cell_type": "markdown",
   "metadata": {},
   "source": [
    "---"
   ]
  },
  {
   "cell_type": "markdown",
   "metadata": {},
   "source": [
    "## Options"
   ]
  },
  {
   "cell_type": "code",
   "execution_count": null,
   "metadata": {},
   "outputs": [],
   "source": [
    "# Path to the .mha file\n",
    "filenameSegmentation = \"./nac_brain_atlas/brain_segmentation.mha\"\n",
    "\n",
    "# Path to colorfile.txt \n",
    "filenameColorfile = \"./nac_brain_atlas/colorfile.txt\"\n",
    "\n",
    "# Opacity of the different volumes (between 0.0 and 1.0)\n",
    "volOpacityDef = 0.25"
   ]
  },
  {
   "cell_type": "markdown",
   "metadata": {},
   "source": [
    "## Image-Data Input"
   ]
  },
  {
   "cell_type": "code",
   "execution_count": null,
   "metadata": {},
   "outputs": [],
   "source": [
    "reader = vtk.vtkMetaImageReader()\n",
    "reader.SetFileName(filenameSegmentation)\n",
    "\n",
    "castFilter = vtk.vtkImageCast()\n",
    "castFilter.SetInputConnection(reader.GetOutputPort())\n",
    "castFilter.SetOutputScalarTypeToUnsignedShort()\n",
    "castFilter.Update()\n",
    "\n",
    "imdataBrainSeg = castFilter.GetOutput()"
   ]
  },
  {
   "cell_type": "markdown",
   "metadata": {},
   "source": [
    "---"
   ]
  },
  {
   "cell_type": "markdown",
   "metadata": {},
   "source": [
    "## Prep-work"
   ]
  },
  {
   "cell_type": "markdown",
   "metadata": {},
   "source": [
    "### Transfer functions"
   ]
  },
  {
   "cell_type": "markdown",
   "metadata": {},
   "source": [
    "Read colorfile into a dictionary"
   ]
  },
  {
   "cell_type": "code",
   "execution_count": null,
   "metadata": {},
   "outputs": [],
   "source": [
    "import csv\n",
    "fid = open(filenameColorfile, \"r\")\n",
    "reader = csv.reader(fid)\n",
    "\n",
    "dictRGB = {}\n",
    "for line in reader:\n",
    "    dictRGB[int(line[0])] = [float(line[2])/255.0,\n",
    "                             float(line[3])/255.0,\n",
    "                             float(line[4])/255.0]\n",
    "fid.close()"
   ]
  },
  {
   "cell_type": "markdown",
   "metadata": {},
   "source": [
    "Define color transfer function"
   ]
  },
  {
   "cell_type": "code",
   "execution_count": null,
   "metadata": {},
   "outputs": [],
   "source": [
    "funcColor = vtk.vtkColorTransferFunction()\n",
    "\n",
    "for idx in dictRGB.keys():\n",
    "    funcColor.AddRGBPoint(idx, \n",
    "                          dictRGB[idx][0],\n",
    "                          dictRGB[idx][1],\n",
    "                          dictRGB[idx][2])"
   ]
  },
  {
   "cell_type": "markdown",
   "metadata": {},
   "source": [
    "Define scalar opacity transfer function"
   ]
  },
  {
   "cell_type": "code",
   "execution_count": null,
   "metadata": {},
   "outputs": [],
   "source": [
    "funcOpacityScalar = vtk.vtkPiecewiseFunction()\n",
    "\n",
    "for idx in dictRGB.keys():\n",
    "    funcOpacityScalar.AddPoint(idx, volOpacityDef if idx != 0 else 0.0)"
   ]
  },
  {
   "cell_type": "markdown",
   "metadata": {},
   "source": [
    "Define gradient opacity transfer function"
   ]
  },
  {
   "cell_type": "code",
   "execution_count": null,
   "metadata": {},
   "outputs": [],
   "source": [
    "funcOpacityGradient = vtk.vtkPiecewiseFunction()\n",
    "\n",
    "funcOpacityGradient.AddPoint(1,   0.0)\n",
    "funcOpacityGradient.AddPoint(5,   0.1)\n",
    "funcOpacityGradient.AddPoint(100,   1.0)"
   ]
  },
  {
   "cell_type": "markdown",
   "metadata": {},
   "source": [
    "### Volume Properties"
   ]
  },
  {
   "cell_type": "code",
   "execution_count": null,
   "metadata": {},
   "outputs": [],
   "source": [
    "propVolume = vtk.vtkVolumeProperty()\n",
    "propVolume.ShadeOff()\n",
    "propVolume.SetColor(funcColor)\n",
    "propVolume.SetScalarOpacity(funcOpacityScalar)\n",
    "propVolume.SetGradientOpacity(funcOpacityGradient)\n",
    "propVolume.SetInterpolationTypeToLinear()"
   ]
  },
  {
   "cell_type": "markdown",
   "metadata": {},
   "source": [
    "---"
   ]
  },
  {
   "cell_type": "markdown",
   "metadata": {},
   "source": [
    "## Volume Rendering"
   ]
  },
  {
   "cell_type": "markdown",
   "metadata": {},
   "source": [
    "### vtkVolumeRayCastMapper"
   ]
  },
  {
   "cell_type": "code",
   "execution_count": null,
   "metadata": {},
   "outputs": [],
   "source": [
    "#funcRayCast = vtk.vtkVolumeRayCastCompositeFunction()\n",
    "#funcRayCast.SetCompositeMethodToClassifyFirst()\n",
    "\n",
    "mapperVolume = vtk.vtkGPUVolumeRayCastMapper()\n",
    "#mapperVolume.SetVolumeRayCastFunction(funcRayCast)\n",
    "mapperVolume.SetInputData(imdataBrainSeg)\n",
    "\n",
    "actorVolume = vtk.vtkVolume()\n",
    "actorVolume.SetMapper(mapperVolume)\n",
    "actorVolume.SetProperty(propVolume)\n",
    "\n",
    "renderer = createDummyRenderer()\n",
    "renderer.AddActor(actorVolume)\n",
    "\n",
    "vtk_show(renderer, 800, 800)"
   ]
  },
  {
   "cell_type": "markdown",
   "metadata": {},
   "source": [
    "#### Clipping Plane"
   ]
  },
  {
   "cell_type": "code",
   "execution_count": null,
   "metadata": {},
   "outputs": [],
   "source": [
    "_origin = l2n(imdataBrainSeg.GetOrigin())\n",
    "_spacing = l2n(imdataBrainSeg.GetSpacing())\n",
    "_dims = l2n(imdataBrainSeg.GetDimensions())\n",
    "_center = n2l(_origin+_spacing*(_dims/2.0))\n",
    "\n",
    "planeClip = vtk.vtkPlane()\n",
    "planeClip.SetOrigin(_center)\n",
    "planeClip.SetNormal(0.0, 0.0, -1.0)"
   ]
  },
  {
   "cell_type": "code",
   "execution_count": null,
   "metadata": {},
   "outputs": [],
   "source": [
    "#funcRayCast = vtk.vtkVolumeRayCastCompositeFunction()\n",
    "#funcRayCast.SetCompositeMethodToClassifyFirst()\n",
    "\n",
    "mapperVolume = vtk.vtkGPUVolumeRayCastMapper()\n",
    "#mapperVolume.SetVolumeRayCastFunction(funcRayCast)\n",
    "mapperVolume.SetInputData(imdataBrainSeg)\n",
    "mapperVolume.AddClippingPlane(planeClip)\n",
    "\n",
    "actorVolume = vtk.vtkVolume()\n",
    "actorVolume.SetMapper(mapperVolume)\n",
    "actorVolume.SetProperty(propVolume)\n",
    "\n",
    "renderer = createDummyRenderer()\n",
    "renderer.AddActor(actorVolume)\n",
    "\n",
    "vtk_show(renderer, 800, 800)"
   ]
  },
  {
   "cell_type": "markdown",
   "metadata": {},
   "source": [
    "---"
   ]
  },
  {
   "cell_type": "markdown",
   "metadata": {},
   "source": [
    "### vtkVolumeTextureMapper2D"
   ]
  },
  {
   "cell_type": "code",
   "execution_count": null,
   "metadata": {},
   "outputs": [],
   "source": [
    "mapperVolume = vtk.vtkFixedPointVolumeRayCastMapper()\n",
    "mapperVolume.SetInputData(imdataBrainSeg)\n",
    "mapperVolume.AddClippingPlane(planeClip)\n",
    "\n",
    "actorVolume = vtk.vtkVolume()\n",
    "actorVolume.SetMapper(mapperVolume)\n",
    "actorVolume.SetProperty(propVolume)\n",
    "\n",
    "renderer = createDummyRenderer()\n",
    "renderer.AddActor(actorVolume)\n",
    "\n",
    "vtk_show(renderer, 800, 800)"
   ]
  },
  {
   "cell_type": "markdown",
   "metadata": {},
   "source": [
    "---"
   ]
  },
  {
   "cell_type": "markdown",
   "metadata": {},
   "source": [
    "---"
   ]
  },
  {
   "cell_type": "markdown",
   "metadata": {},
   "source": [
    "### vtkGPUVolumeRayCastMapper"
   ]
  },
  {
   "cell_type": "code",
   "execution_count": null,
   "metadata": {},
   "outputs": [],
   "source": [
    "mapperVolume = vtk.vtkGPUVolumeRayCastMapper()\n",
    "mapperVolume.SetInputData(imdataBrainSeg)\n",
    "mapperVolume.AddClippingPlane(planeClip)\n",
    "\n",
    "actorVolume = vtk.vtkVolume()\n",
    "actorVolume.SetMapper(mapperVolume)\n",
    "actorVolume.SetProperty(propVolume)\n",
    "\n",
    "renderer = createDummyRenderer()\n",
    "renderer.AddActor(actorVolume)\n",
    "\n",
    "vtk_show(renderer, 800, 800)"
   ]
  },
  {
   "cell_type": "markdown",
   "metadata": {},
   "source": [
    "### vtkFixedPointVolumeRayCastMapper"
   ]
  },
  {
   "cell_type": "code",
   "execution_count": null,
   "metadata": {},
   "outputs": [],
   "source": [
    "mapperVolume = vtk.vtkFixedPointVolumeRayCastMapper()\n",
    "mapperVolume.SetInputData(imdataBrainSeg)\n",
    "mapperVolume.AddClippingPlane(planeClip)\n",
    "\n",
    "actorVolume = vtk.vtkVolume()\n",
    "actorVolume.SetMapper(mapperVolume)\n",
    "actorVolume.SetProperty(propVolume)\n",
    "\n",
    "renderer = createDummyRenderer()\n",
    "renderer.AddActor(actorVolume)\n",
    "\n",
    "vtk_show(renderer, 800, 800)"
   ]
  },
  {
   "cell_type": "markdown",
   "metadata": {},
   "source": [
    "### vtkVolumeTextureMapper3D"
   ]
  },
  {
   "cell_type": "code",
   "execution_count": null,
   "metadata": {},
   "outputs": [],
   "source": [
    "mapperVolume = vtk.vtkVolumeTextureMapper3D()\n",
    "mapperVolume.SetInputData(imdataBrainSeg)\n",
    "mapperVolume.AddClippingPlane(planeClip)\n",
    "\n",
    "actorVolume = vtk.vtkVolume()\n",
    "actorVolume.SetMapper(mapperVolume)\n",
    "actorVolume.SetProperty(propVolume)\n",
    "\n",
    "renderer = createDummyRenderer()\n",
    "renderer.AddActor(actorVolume)\n",
    "\n",
    "vtk_show(renderer, 800, 800)"
   ]
  },
  {
   "cell_type": "code",
   "execution_count": null,
   "metadata": {},
   "outputs": [],
   "source": []
  }
 ],
 "metadata": {
  "kernelspec": {
   "display_name": "Python 3 (ipykernel)",
   "language": "python",
   "name": "python3"
  },
  "language_info": {
   "codemirror_mode": {
    "name": "ipython",
    "version": 3
   },
   "file_extension": ".py",
   "mimetype": "text/x-python",
   "name": "python",
   "nbconvert_exporter": "python",
   "pygments_lexer": "ipython3",
   "version": "3.10.5"
  }
 },
 "nbformat": 4,
 "nbformat_minor": 1
}
